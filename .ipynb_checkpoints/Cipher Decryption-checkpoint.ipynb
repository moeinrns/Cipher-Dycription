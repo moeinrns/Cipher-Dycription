{
 "cells": [
  {
   "cell_type": "markdown",
   "metadata": {},
   "source": [
    "Generate a random cipher substitution"
   ]
  },
  {
   "cell_type": "code",
   "execution_count": 1,
   "metadata": {},
   "outputs": [],
   "source": [
    "import numpy as np"
   ]
  },
  {
   "cell_type": "code",
   "execution_count": 2,
   "metadata": {},
   "outputs": [],
   "source": [
    "from numpy.random import Generator as gen"
   ]
  },
  {
   "cell_type": "code",
   "execution_count": 3,
   "metadata": {},
   "outputs": [],
   "source": [
    "from numpy.random import PCG64 as pcg"
   ]
  },
  {
   "cell_type": "code",
   "execution_count": 4,
   "metadata": {},
   "outputs": [],
   "source": [
    "alphabets = \"abcdefghijklmnopqrstuvwxyz\""
   ]
  },
  {
   "cell_type": "code",
   "execution_count": 5,
   "metadata": {},
   "outputs": [],
   "source": [
    "array_rg = gen(pcg(seed = 2))"
   ]
  },
  {
   "cell_type": "code",
   "execution_count": 33,
   "metadata": {},
   "outputs": [
    {
     "data": {
      "text/plain": [
       "array([ 4, 19,  9, 21, 17,  3,  8,  7, 25, 10, 23, 15, 11, 20,  1,  0,  2,\n",
       "       12, 18, 24, 22, 13,  5, 14,  6, 16])"
      ]
     },
     "execution_count": 33,
     "metadata": {},
     "output_type": "execute_result"
    }
   ],
   "source": [
    "array_rgg = gen(pcg(seed = 3))\n",
    "random_choice = array_rg.choice(range(26), size = (26,), replace = False,)\n",
    "random_choice"
   ]
  },
  {
   "cell_type": "code",
   "execution_count": 34,
   "metadata": {},
   "outputs": [],
   "source": [
    "random_sub_cipher = {alphabets[i]:alphabets[random_choice[i]] for i in range(len(alphabets))}"
   ]
  },
  {
   "cell_type": "code",
   "execution_count": 35,
   "metadata": {},
   "outputs": [
    {
     "data": {
      "text/plain": [
       "{'a': 'e',\n",
       " 'b': 't',\n",
       " 'c': 'j',\n",
       " 'd': 'v',\n",
       " 'e': 'r',\n",
       " 'f': 'd',\n",
       " 'g': 'i',\n",
       " 'h': 'h',\n",
       " 'i': 'z',\n",
       " 'j': 'k',\n",
       " 'k': 'x',\n",
       " 'l': 'p',\n",
       " 'm': 'l',\n",
       " 'n': 'u',\n",
       " 'o': 'b',\n",
       " 'p': 'a',\n",
       " 'q': 'c',\n",
       " 'r': 'm',\n",
       " 's': 's',\n",
       " 't': 'y',\n",
       " 'u': 'w',\n",
       " 'v': 'n',\n",
       " 'w': 'f',\n",
       " 'x': 'o',\n",
       " 'y': 'g',\n",
       " 'z': 'q'}"
      ]
     },
     "execution_count": 35,
     "metadata": {},
     "output_type": "execute_result"
    }
   ],
   "source": [
    "random_sub_cipher"
   ]
  },
  {
   "cell_type": "code",
   "execution_count": null,
   "metadata": {},
   "outputs": [],
   "source": []
  },
  {
   "cell_type": "code",
   "execution_count": null,
   "metadata": {},
   "outputs": [],
   "source": []
  }
 ],
 "metadata": {
  "kernelspec": {
   "display_name": "Python 3",
   "language": "python",
   "name": "python3"
  },
  "language_info": {
   "codemirror_mode": {
    "name": "ipython",
    "version": 3
   },
   "file_extension": ".py",
   "mimetype": "text/x-python",
   "name": "python",
   "nbconvert_exporter": "python",
   "pygments_lexer": "ipython3",
   "version": "3.8.5"
  }
 },
 "nbformat": 4,
 "nbformat_minor": 4
}
